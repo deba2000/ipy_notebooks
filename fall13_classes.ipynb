{
 "metadata": {
  "name": ""
 },
 "nbformat": 3,
 "nbformat_minor": 0,
 "worksheets": [
  {
   "cells": [
    {
     "cell_type": "heading",
     "level": 1,
     "metadata": {},
     "source": [
      "Fall 2013 classes"
     ]
    },
    {
     "cell_type": "heading",
     "level": 2,
     "metadata": {},
     "source": [
      "Physics"
     ]
    },
    {
     "cell_type": "markdown",
     "metadata": {},
     "source": [
      "- Non-equilibrium Stat Mech (210B)\n",
      "    - Instructor: Dan Arovas\n",
      "    - MW, 11:00-12:20"
     ]
    },
    {
     "cell_type": "heading",
     "level": 2,
     "metadata": {},
     "source": [
      "Comp Sci"
     ]
    },
    {
     "cell_type": "heading",
     "level": 2,
     "metadata": {},
     "source": [
      "Math"
     ]
    },
    {
     "cell_type": "markdown",
     "metadata": {},
     "source": [
      "- Geometrical Physics (259A)\n",
      "    - Instructor: Nolan Wallach\n",
      "    - MWF, 1:00-1:50"
     ]
    },
    {
     "cell_type": "code",
     "collapsed": false,
     "input": [],
     "language": "python",
     "metadata": {},
     "outputs": []
    }
   ],
   "metadata": {}
  }
 ]
}